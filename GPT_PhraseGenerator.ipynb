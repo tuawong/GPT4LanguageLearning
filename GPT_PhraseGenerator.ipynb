{
 "cells": [
  {
   "cell_type": "code",
   "execution_count": 1,
   "metadata": {},
   "outputs": [],
   "source": [
    "import main.Constants as Constants\n",
    "from  openai import OpenAI\n",
    "import os\n",
    "import numpy as np\n",
    "import pandas as pd\n",
    "import time\n",
    "\n",
    "import gspread\n",
    "import gspread_dataframe as gd\n",
    "import gspread_formatting as gf\n",
    "from gspread_formatting import cellFormat, color, textFormat\n"
   ]
  },
  {
   "cell_type": "markdown",
   "metadata": {},
   "source": [
    "## Manual Phrase Generator"
   ]
  },
  {
   "cell_type": "code",
   "execution_count": 2,
   "metadata": {},
   "outputs": [],
   "source": [
    "from main.phrase_generator import *\n",
    "from main.utils import parse_response_table"
   ]
  },
  {
   "cell_type": "code",
   "execution_count": 3,
   "metadata": {},
   "outputs": [],
   "source": [
    "gsheet_name = Constants.SHEET_NAME\n",
    "phrasesheet_name = Constants.PHRASE_SHEET_NAME\n",
    "\n",
    "phrase_dict = load_dict(gsheet_mode=True, gsheet_name=gsheet_name, worksheet_name=phrasesheet_name)\n",
    "existing_phrases = phrase_dict['Line'].drop_duplicates().values"
   ]
  },
  {
   "cell_type": "markdown",
   "metadata": {},
   "source": [
    "#### Generate Phrase From Context"
   ]
  },
  {
   "cell_type": "code",
   "execution_count": 4,
   "metadata": {},
   "outputs": [],
   "source": [
    "translation_model=\"gpt-4o\"\n",
    "temp=0.7 \n",
    "num_phrases = 5\n",
    "complexity = \"Medium\"\n",
    "\n",
    "translation_response =  get_completion(\n",
    "        prompt = get_prompt_to_translate(\n",
    "            input_phrases = \"Do you want to go watch the movie with me?\",\n",
    "            complexity = \"Medium\",\n",
    "            tone = \"Casual\"\n",
    "            ),\n",
    "        model=translation_model, \n",
    "        temperature=temp)\n"
   ]
  },
  {
   "cell_type": "code",
   "execution_count": 5,
   "metadata": {},
   "outputs": [
    {
     "name": "stdout",
     "output_type": "stream",
     "text": [
      "| Line                     | Pinyin                          | Meaning                           | Response                | Response Pinyin             | Response Meaning              | Complexity | Category                | Tone   |\n",
      "|--------------------------|---------------------------------|-----------------------------------|-------------------------|-----------------------------|--------------------------------|------------|-------------------------|--------|\n",
      "| 你想和我一起去看电影吗？ | Nǐ xiǎng hé wǒ yīqǐ qù kàn diànyǐng ma? | Do you want to go watch the movie with me? | 好啊，几点见？          | Hǎo a, jǐ diǎn jiàn?        | Sure, what time shall we meet? | Medium     | Movies and Entertainment | Casual |\n"
     ]
    }
   ],
   "source": [
    "print(translation_response.choices[0].message.content)"
   ]
  },
  {
   "cell_type": "code",
   "execution_count": 4,
   "metadata": {},
   "outputs": [],
   "source": [
    "translation_model=\"gpt-4o\"\n",
    "temp=0.7 \n",
    "situation = \"Going to the library\"\n",
    "num_phrases = 5\n",
    "complexity = \"Medium\"\n",
    "\n",
    "translation_response =  get_completion(\n",
    "        prompt = get_prompt_to_gen_phrases(\n",
    "            situation = \"Going to the library\",\n",
    "            num_phrases = 5,\n",
    "            complexity = \"Medium\",\n",
    "            tone = \"Casual\",\n",
    "            existing_phrases=existing_phrases\n",
    "            ),\n",
    "        model=translation_model, \n",
    "        temperature=temp)\n"
   ]
  },
  {
   "cell_type": "code",
   "execution_count": 5,
   "metadata": {},
   "outputs": [
    {
     "name": "stdout",
     "output_type": "stream",
     "text": [
      "| Line            | Pinyin                            | Meaning                         | Response                      | Response Pinyin                    | Response Meaning               | Complexity | Category   |\n",
      "|------------------|----------------------------------|---------------------------------|-------------------------------|------------------------------------|---------------------------------|------------|------------|\n",
      "| 这本书在哪个区域？ | Zhè běn shū zài nǎge qūyù?       | Which section is this book in?  | 在三楼的文学区。               | Zài sān lóu de wénxué qū.          | In the literature section on the third floor. | Medium     | Library    |\n",
      "| 我可以借几本书？   | Wǒ kěyǐ jiè jǐ běn shū?          | How many books can I borrow?    | 你可以借五本书。               | Nǐ kěyǐ jiè wǔ běn shū.             | You can borrow five books.     | Medium     | Library    |\n",
      "| 图书馆有打印服务吗？| Túshūguǎn yǒu dǎyìn fúwù ma?    | Does the library offer printing services? | 有，在一楼。                 | Yǒu, zài yī lóu.                   | Yes, on the first floor.       | Medium     | Library    |\n",
      "| 这里的书可以拍照吗？| Zhèlǐ de shū kěyǐ pāizhào ma?    | Can I take photos of the books here? | 可以，但请不要使用闪光灯。     | Kěyǐ, dàn qǐng bùyào shǐyòng shǎnguāngdēng. | Yes, but please don't use the flash. | Medium     | Library    |\n",
      "| 有推荐的书吗？     | Yǒu tuījiàn de shū ma?           | Are there any book recommendations? | 当然，这本书很受欢迎。       | Dāngrán, zhè běn shū hěn shòu huānyíng. | Of course, this book is very popular. | Medium     | Library    |\n"
     ]
    }
   ],
   "source": [
    "print(translation_response.choices[0].message.content)"
   ]
  },
  {
   "cell_type": "code",
   "execution_count": 6,
   "metadata": {},
   "outputs": [
    {
     "data": {
      "text/html": [
       "<div>\n",
       "<style scoped>\n",
       "    .dataframe tbody tr th:only-of-type {\n",
       "        vertical-align: middle;\n",
       "    }\n",
       "\n",
       "    .dataframe tbody tr th {\n",
       "        vertical-align: top;\n",
       "    }\n",
       "\n",
       "    .dataframe thead th {\n",
       "        text-align: right;\n",
       "    }\n",
       "</style>\n",
       "<table border=\"1\" class=\"dataframe\">\n",
       "  <thead>\n",
       "    <tr style=\"text-align: right;\">\n",
       "      <th></th>\n",
       "      <th>Line</th>\n",
       "      <th>Pinyin</th>\n",
       "      <th>Meaning</th>\n",
       "      <th>Response</th>\n",
       "      <th>Response Pinyin</th>\n",
       "      <th>Response Meaning</th>\n",
       "      <th>Complexity</th>\n",
       "      <th>Category</th>\n",
       "    </tr>\n",
       "  </thead>\n",
       "  <tbody>\n",
       "    <tr>\n",
       "      <th>1</th>\n",
       "      <td>这本书在哪个区域？</td>\n",
       "      <td>Zhè běn shū zài nǎge qūyù?</td>\n",
       "      <td>Which section is this book in?</td>\n",
       "      <td>在三楼的文学区。</td>\n",
       "      <td>Zài sān lóu de wénxué qū.</td>\n",
       "      <td>In the literature section on the third floor.</td>\n",
       "      <td>Medium</td>\n",
       "      <td>Library</td>\n",
       "    </tr>\n",
       "    <tr>\n",
       "      <th>2</th>\n",
       "      <td>我可以借几本书？</td>\n",
       "      <td>Wǒ kěyǐ jiè jǐ běn shū?</td>\n",
       "      <td>How many books can I borrow?</td>\n",
       "      <td>你可以借五本书。</td>\n",
       "      <td>Nǐ kěyǐ jiè wǔ běn shū.</td>\n",
       "      <td>You can borrow five books.</td>\n",
       "      <td>Medium</td>\n",
       "      <td>Library</td>\n",
       "    </tr>\n",
       "    <tr>\n",
       "      <th>3</th>\n",
       "      <td>图书馆有打印服务吗？</td>\n",
       "      <td>Túshūguǎn yǒu dǎyìn fúwù ma?</td>\n",
       "      <td>Does the library offer printing services?</td>\n",
       "      <td>有，在一楼。</td>\n",
       "      <td>Yǒu, zài yī lóu.</td>\n",
       "      <td>Yes, on the first floor.</td>\n",
       "      <td>Medium</td>\n",
       "      <td>Library</td>\n",
       "    </tr>\n",
       "    <tr>\n",
       "      <th>4</th>\n",
       "      <td>这里的书可以拍照吗？</td>\n",
       "      <td>Zhèlǐ de shū kěyǐ pāizhào ma?</td>\n",
       "      <td>Can I take photos of the books here?</td>\n",
       "      <td>可以，但请不要使用闪光灯。</td>\n",
       "      <td>Kěyǐ, dàn qǐng bùyào shǐyòng shǎnguāngdēng.</td>\n",
       "      <td>Yes, but please don't use the flash.</td>\n",
       "      <td>Medium</td>\n",
       "      <td>Library</td>\n",
       "    </tr>\n",
       "    <tr>\n",
       "      <th>5</th>\n",
       "      <td>有推荐的书吗？</td>\n",
       "      <td>Yǒu tuījiàn de shū ma?</td>\n",
       "      <td>Are there any book recommendations?</td>\n",
       "      <td>当然，这本书很受欢迎。</td>\n",
       "      <td>Dāngrán, zhè běn shū hěn shòu huānyíng.</td>\n",
       "      <td>Of course, this book is very popular.</td>\n",
       "      <td>Medium</td>\n",
       "      <td>Library</td>\n",
       "    </tr>\n",
       "  </tbody>\n",
       "</table>\n",
       "</div>"
      ],
      "text/plain": [
       "         Line                         Pinyin  \\\n",
       "1   这本书在哪个区域？     Zhè běn shū zài nǎge qūyù?   \n",
       "2    我可以借几本书？        Wǒ kěyǐ jiè jǐ běn shū?   \n",
       "3  图书馆有打印服务吗？   Túshūguǎn yǒu dǎyìn fúwù ma?   \n",
       "4  这里的书可以拍照吗？  Zhèlǐ de shū kěyǐ pāizhào ma?   \n",
       "5     有推荐的书吗？         Yǒu tuījiàn de shū ma?   \n",
       "\n",
       "                                     Meaning       Response  \\\n",
       "1             Which section is this book in?       在三楼的文学区。   \n",
       "2               How many books can I borrow?       你可以借五本书。   \n",
       "3  Does the library offer printing services?         有，在一楼。   \n",
       "4       Can I take photos of the books here?  可以，但请不要使用闪光灯。   \n",
       "5        Are there any book recommendations?    当然，这本书很受欢迎。   \n",
       "\n",
       "                               Response Pinyin  \\\n",
       "1                    Zài sān lóu de wénxué qū.   \n",
       "2                      Nǐ kěyǐ jiè wǔ běn shū.   \n",
       "3                             Yǒu, zài yī lóu.   \n",
       "4  Kěyǐ, dàn qǐng bùyào shǐyòng shǎnguāngdēng.   \n",
       "5      Dāngrán, zhè běn shū hěn shòu huānyíng.   \n",
       "\n",
       "                                Response Meaning Complexity Category  \n",
       "1  In the literature section on the third floor.     Medium  Library  \n",
       "2                     You can borrow five books.     Medium  Library  \n",
       "3                       Yes, on the first floor.     Medium  Library  \n",
       "4           Yes, but please don't use the flash.     Medium  Library  \n",
       "5          Of course, this book is very popular.     Medium  Library  "
      ]
     },
     "execution_count": 6,
     "metadata": {},
     "output_type": "execute_result"
    }
   ],
   "source": [
    "new_phrase_df = parse_response_table(translation_response.choices[0].message.content)\n",
    "new_phrase_df"
   ]
  },
  {
   "cell_type": "code",
   "execution_count": 7,
   "metadata": {},
   "outputs": [
    {
     "data": {
      "text/plain": [
       "'Saved new phrases to the dictionary.'"
      ]
     },
     "execution_count": 7,
     "metadata": {},
     "output_type": "execute_result"
    }
   ],
   "source": [
    "save_new_phrase_to_dict(new_phrase_df, gsheet_name=gsheet_name, worksheet_name=phrasesheet_name)"
   ]
  },
  {
   "cell_type": "markdown",
   "metadata": {},
   "source": [
    "#### Generate Response from Phrase"
   ]
  },
  {
   "cell_type": "code",
   "execution_count": 8,
   "metadata": {},
   "outputs": [],
   "source": [
    "translation_model=\"gpt-4o\"\n",
    "temp=0.7 \n",
    "\n",
    "translation_response =  get_completion(\n",
    "        prompt = get_prompt_to_respond(\"洗手间在哪里， 今天你要吃什么\", complexity=\"Medium\"),\n",
    "        model=translation_model, \n",
    "        temperature=temp)\n"
   ]
  },
  {
   "cell_type": "code",
   "execution_count": 9,
   "metadata": {},
   "outputs": [
    {
     "data": {
      "text/html": [
       "<div>\n",
       "<style scoped>\n",
       "    .dataframe tbody tr th:only-of-type {\n",
       "        vertical-align: middle;\n",
       "    }\n",
       "\n",
       "    .dataframe tbody tr th {\n",
       "        vertical-align: top;\n",
       "    }\n",
       "\n",
       "    .dataframe thead th {\n",
       "        text-align: right;\n",
       "    }\n",
       "</style>\n",
       "<table border=\"1\" class=\"dataframe\">\n",
       "  <thead>\n",
       "    <tr style=\"text-align: right;\">\n",
       "      <th></th>\n",
       "      <th>Line</th>\n",
       "      <th>Pinyin</th>\n",
       "      <th>Meaning</th>\n",
       "      <th>Response</th>\n",
       "      <th>Response Pinyin</th>\n",
       "      <th>Response Meaning</th>\n",
       "      <th>Complexity</th>\n",
       "      <th>Category</th>\n",
       "    </tr>\n",
       "  </thead>\n",
       "  <tbody>\n",
       "    <tr>\n",
       "      <th>1</th>\n",
       "      <td>洗手间在哪里</td>\n",
       "      <td>Xǐshǒujiān zài nǎlǐ</td>\n",
       "      <td>Where is the restroom?</td>\n",
       "      <td>洗手间在走廊的右边。</td>\n",
       "      <td>Xǐshǒujiān zài zǒuláng de yòubiān.</td>\n",
       "      <td>The restroom is on the right side of the corri...</td>\n",
       "      <td>Medium</td>\n",
       "      <td>Daily Life</td>\n",
       "    </tr>\n",
       "    <tr>\n",
       "      <th>2</th>\n",
       "      <td>今天你要吃什么</td>\n",
       "      <td>Jīntiān nǐ yào chī shénme</td>\n",
       "      <td>What do you want to eat today?</td>\n",
       "      <td>我今天想吃中餐。</td>\n",
       "      <td>Wǒ jīntiān xiǎng chī zhōngcān.</td>\n",
       "      <td>I want to eat Chinese food today.</td>\n",
       "      <td>Medium</td>\n",
       "      <td>Cooking</td>\n",
       "    </tr>\n",
       "  </tbody>\n",
       "</table>\n",
       "</div>"
      ],
      "text/plain": [
       "      Line                     Pinyin                         Meaning  \\\n",
       "1   洗手间在哪里        Xǐshǒujiān zài nǎlǐ          Where is the restroom?   \n",
       "2  今天你要吃什么  Jīntiān nǐ yào chī shénme  What do you want to eat today?   \n",
       "\n",
       "     Response                     Response Pinyin  \\\n",
       "1  洗手间在走廊的右边。  Xǐshǒujiān zài zǒuláng de yòubiān.   \n",
       "2    我今天想吃中餐。      Wǒ jīntiān xiǎng chī zhōngcān.   \n",
       "\n",
       "                                    Response Meaning Complexity    Category  \n",
       "1  The restroom is on the right side of the corri...     Medium  Daily Life  \n",
       "2                  I want to eat Chinese food today.     Medium     Cooking  "
      ]
     },
     "execution_count": 9,
     "metadata": {},
     "output_type": "execute_result"
    }
   ],
   "source": [
    "new_phrase_df = parse_response_table(translation_response.choices[0].message.content)\n",
    "new_phrase_df"
   ]
  },
  {
   "cell_type": "code",
   "execution_count": 10,
   "metadata": {},
   "outputs": [
    {
     "data": {
      "text/plain": [
       "'Saved new phrases to the dictionary.'"
      ]
     },
     "execution_count": 10,
     "metadata": {},
     "output_type": "execute_result"
    }
   ],
   "source": [
    "save_new_phrase_to_dict(new_phrase_df, gsheet_name=gsheet_name, worksheet_name=phrasesheet_name)"
   ]
  },
  {
   "cell_type": "markdown",
   "metadata": {},
   "source": [
    "## Packaging Phrase Generator Pipeline"
   ]
  },
  {
   "cell_type": "code",
   "execution_count": 4,
   "metadata": {},
   "outputs": [],
   "source": [
    "phrase_generator = PhraseGenerationPipeline(gsheet_name, phrasesheet_name)"
   ]
  },
  {
   "cell_type": "code",
   "execution_count": 6,
   "metadata": {},
   "outputs": [
    {
     "data": {
      "text/html": [
       "<div>\n",
       "<style scoped>\n",
       "    .dataframe tbody tr th:only-of-type {\n",
       "        vertical-align: middle;\n",
       "    }\n",
       "\n",
       "    .dataframe tbody tr th {\n",
       "        vertical-align: top;\n",
       "    }\n",
       "\n",
       "    .dataframe thead th {\n",
       "        text-align: right;\n",
       "    }\n",
       "</style>\n",
       "<table border=\"1\" class=\"dataframe\">\n",
       "  <thead>\n",
       "    <tr style=\"text-align: right;\">\n",
       "      <th></th>\n",
       "      <th>Line</th>\n",
       "      <th>Pinyin</th>\n",
       "      <th>Meaning</th>\n",
       "      <th>Response</th>\n",
       "      <th>Response Pinyin</th>\n",
       "      <th>Response Meaning</th>\n",
       "      <th>Complexity</th>\n",
       "      <th>Category</th>\n",
       "      <th>Tone</th>\n",
       "      <th>Added Date</th>\n",
       "    </tr>\n",
       "  </thead>\n",
       "  <tbody>\n",
       "    <tr>\n",
       "      <th>1</th>\n",
       "      <td>你今天用烤箱做饭吗？</td>\n",
       "      <td>Nǐ jīntiān yòng kǎoxiāng zuò fàn ma?</td>\n",
       "      <td>Are you cooking with the oven today?</td>\n",
       "      <td>是啊，我打算烤个比萨。</td>\n",
       "      <td>Shì a, wǒ dǎsuàn kǎo gè bǐsà.</td>\n",
       "      <td>Yes, I plan to bake a pizza.</td>\n",
       "      <td>Medium</td>\n",
       "      <td>Cooking</td>\n",
       "      <td>Casual</td>\n",
       "      <td>2025-01-12</td>\n",
       "    </tr>\n",
       "  </tbody>\n",
       "</table>\n",
       "</div>"
      ],
      "text/plain": [
       "         Line                                Pinyin  \\\n",
       "1  你今天用烤箱做饭吗？  Nǐ jīntiān yòng kǎoxiāng zuò fàn ma?   \n",
       "\n",
       "                                Meaning     Response  \\\n",
       "1  Are you cooking with the oven today?  是啊，我打算烤个比萨。   \n",
       "\n",
       "                 Response Pinyin              Response Meaning Complexity  \\\n",
       "1  Shì a, wǒ dǎsuàn kǎo gè bǐsà.  Yes, I plan to bake a pizza.     Medium   \n",
       "\n",
       "  Category    Tone  Added Date  \n",
       "1  Cooking  Casual  2025-01-12  "
      ]
     },
     "execution_count": 6,
     "metadata": {},
     "output_type": "execute_result"
    },
    {
     "ename": "",
     "evalue": "",
     "output_type": "error",
     "traceback": [
      "\u001b[1;31mThe Kernel crashed while executing code in the current cell or a previous cell. \n",
      "\u001b[1;31mPlease review the code in the cell(s) to identify a possible cause of the failure. \n",
      "\u001b[1;31mClick <a href='https://aka.ms/vscodeJupyterKernelCrash'>here</a> for more info. \n",
      "\u001b[1;31mView Jupyter <a href='command:jupyter.viewOutput'>log</a> for further details."
     ]
    }
   ],
   "source": [
    "translation_model=\"gpt-4o\"\n",
    "temp=0.7 \n",
    "translation = \"Are you cooking with the oven today?\"\n",
    "complexity = \"Medium\"\n",
    "tone = \"Casual\"\n",
    "\n",
    "phrase_generator.phrase_translate_module(translation, complexity, tone, translation_model, temp)\n",
    "phrase_generator.new_phrase_df"
   ]
  },
  {
   "cell_type": "code",
   "execution_count": 5,
   "metadata": {},
   "outputs": [
    {
     "data": {
      "text/html": [
       "<div>\n",
       "<style scoped>\n",
       "    .dataframe tbody tr th:only-of-type {\n",
       "        vertical-align: middle;\n",
       "    }\n",
       "\n",
       "    .dataframe tbody tr th {\n",
       "        vertical-align: top;\n",
       "    }\n",
       "\n",
       "    .dataframe thead th {\n",
       "        text-align: right;\n",
       "    }\n",
       "</style>\n",
       "<table border=\"1\" class=\"dataframe\">\n",
       "  <thead>\n",
       "    <tr style=\"text-align: right;\">\n",
       "      <th></th>\n",
       "      <th>Line</th>\n",
       "      <th>Pinyin</th>\n",
       "      <th>Meaning</th>\n",
       "      <th>Response</th>\n",
       "      <th>Response Pinyin</th>\n",
       "      <th>Response Meaning</th>\n",
       "      <th>Complexity</th>\n",
       "      <th>Category</th>\n",
       "      <th>Tone</th>\n",
       "      <th>Added Date</th>\n",
       "      <th>Phrase Id</th>\n",
       "    </tr>\n",
       "  </thead>\n",
       "  <tbody>\n",
       "    <tr>\n",
       "      <th>1</th>\n",
       "      <td>这个菜要怎么做？</td>\n",
       "      <td>Zhège cài yào zěnme zuò?</td>\n",
       "      <td>How do we cook this dish?</td>\n",
       "      <td>我们可以查一下食谱。</td>\n",
       "      <td>Wǒmen kěyǐ chá yīxià shípǔ.</td>\n",
       "      <td>We can check the recipe.</td>\n",
       "      <td>Medium</td>\n",
       "      <td>Cooking</td>\n",
       "      <td>Casual</td>\n",
       "      <td>2025-01-01</td>\n",
       "      <td>34</td>\n",
       "    </tr>\n",
       "    <tr>\n",
       "      <th>2</th>\n",
       "      <td>你帮我尝尝这个。</td>\n",
       "      <td>Nǐ bāng wǒ chángcháng zhège.</td>\n",
       "      <td>Help me taste this.</td>\n",
       "      <td>好的，我来试试。</td>\n",
       "      <td>Hǎo de, wǒ lái shì shì.</td>\n",
       "      <td>Okay, let me try it.</td>\n",
       "      <td>Medium</td>\n",
       "      <td>Cooking</td>\n",
       "      <td>Casual</td>\n",
       "      <td>2025-01-01</td>\n",
       "      <td>35</td>\n",
       "    </tr>\n",
       "  </tbody>\n",
       "</table>\n",
       "</div>"
      ],
      "text/plain": [
       "       Line                        Pinyin                    Meaning  \\\n",
       "1  这个菜要怎么做？      Zhège cài yào zěnme zuò?  How do we cook this dish?   \n",
       "2  你帮我尝尝这个。  Nǐ bāng wǒ chángcháng zhège.        Help me taste this.   \n",
       "\n",
       "     Response              Response Pinyin          Response Meaning  \\\n",
       "1  我们可以查一下食谱。  Wǒmen kěyǐ chá yīxià shípǔ.  We can check the recipe.   \n",
       "2    好的，我来试试。      Hǎo de, wǒ lái shì shì.      Okay, let me try it.   \n",
       "\n",
       "  Complexity Category    Tone  Added Date  Phrase Id  \n",
       "1     Medium  Cooking  Casual  2025-01-01         34  \n",
       "2     Medium  Cooking  Casual  2025-01-01         35  "
      ]
     },
     "execution_count": 5,
     "metadata": {},
     "output_type": "execute_result"
    }
   ],
   "source": [
    "translation_model=\"gpt-4o\"\n",
    "temp=0.7 \n",
    "situation = \"Cooking with my wife\"\n",
    "num_phrases = 2\n",
    "complexity = \"Medium\"\n",
    "tone = \"Casual\"\n",
    "\n",
    "phrase_generator.run_phrase_generation_pipeline(situation, num_phrases, complexity, tone, existing_phrases, translation_model, temp)\n",
    "phrase_generator.new_phrase_df"
   ]
  },
  {
   "cell_type": "code",
   "execution_count": 7,
   "metadata": {},
   "outputs": [
    {
     "data": {
      "text/html": [
       "<div>\n",
       "<style scoped>\n",
       "    .dataframe tbody tr th:only-of-type {\n",
       "        vertical-align: middle;\n",
       "    }\n",
       "\n",
       "    .dataframe tbody tr th {\n",
       "        vertical-align: top;\n",
       "    }\n",
       "\n",
       "    .dataframe thead th {\n",
       "        text-align: right;\n",
       "    }\n",
       "</style>\n",
       "<table border=\"1\" class=\"dataframe\">\n",
       "  <thead>\n",
       "    <tr style=\"text-align: right;\">\n",
       "      <th></th>\n",
       "      <th>Line</th>\n",
       "      <th>Pinyin</th>\n",
       "      <th>Meaning</th>\n",
       "      <th>Response</th>\n",
       "      <th>Response Pinyin</th>\n",
       "      <th>Response Meaning</th>\n",
       "      <th>Complexity</th>\n",
       "      <th>Category</th>\n",
       "      <th>Tone</th>\n",
       "      <th>Added Date</th>\n",
       "    </tr>\n",
       "  </thead>\n",
       "  <tbody>\n",
       "    <tr>\n",
       "      <th>1</th>\n",
       "      <td>明天你要几点出发</td>\n",
       "      <td>Míngtiān nǐ yào jǐ diǎn chūfā</td>\n",
       "      <td>What time do you plan to leave tomorrow?</td>\n",
       "      <td>我计划早上八点出发。</td>\n",
       "      <td>Wǒ jìhuà zǎoshang bā diǎn chūfā.</td>\n",
       "      <td>I plan to leave at 8 a.m.</td>\n",
       "      <td>Medium</td>\n",
       "      <td>Daily Life</td>\n",
       "      <td>Polite</td>\n",
       "      <td>2025-01-01</td>\n",
       "    </tr>\n",
       "    <tr>\n",
       "      <th>2</th>\n",
       "      <td>你喜欢看什么电影</td>\n",
       "      <td>Nǐ xǐhuān kàn shénme diànyǐng</td>\n",
       "      <td>What kind of movies do you like?</td>\n",
       "      <td>我喜欢看科幻电影。</td>\n",
       "      <td>Wǒ xǐhuān kàn kēhuàn diànyǐng.</td>\n",
       "      <td>I like watching science fiction movies.</td>\n",
       "      <td>Medium</td>\n",
       "      <td>Movies and Entertainment</td>\n",
       "      <td>Polite</td>\n",
       "      <td>2025-01-01</td>\n",
       "    </tr>\n",
       "  </tbody>\n",
       "</table>\n",
       "</div>"
      ],
      "text/plain": [
       "       Line                         Pinyin  \\\n",
       "1  明天你要几点出发  Míngtiān nǐ yào jǐ diǎn chūfā   \n",
       "2  你喜欢看什么电影  Nǐ xǐhuān kàn shénme diànyǐng   \n",
       "\n",
       "                                    Meaning    Response  \\\n",
       "1  What time do you plan to leave tomorrow?  我计划早上八点出发。   \n",
       "2          What kind of movies do you like?   我喜欢看科幻电影。   \n",
       "\n",
       "                    Response Pinyin                         Response Meaning  \\\n",
       "1  Wǒ jìhuà zǎoshang bā diǎn chūfā.                I plan to leave at 8 a.m.   \n",
       "2    Wǒ xǐhuān kàn kēhuàn diànyǐng.  I like watching science fiction movies.   \n",
       "\n",
       "  Complexity                  Category    Tone  Added Date  \n",
       "1     Medium                Daily Life  Polite  2025-01-01  \n",
       "2     Medium  Movies and Entertainment  Polite  2025-01-01  "
      ]
     },
     "execution_count": 7,
     "metadata": {},
     "output_type": "execute_result"
    }
   ],
   "source": [
    "translation_model=\"gpt-4o\"\n",
    "temp=0.7 \n",
    "input_phrases = \"明天你要几点出发, 你喜欢看什么电影\"\n",
    "complexity = \"Medium\"\n",
    "tone = \"Polite\"\n",
    "\n",
    "phrase_generator.phrase_response_module(input_phrases, complexity, tone, translation_model, temp)\n",
    "phrase_generator.new_phrase_df"
   ]
  },
  {
   "cell_type": "code",
   "execution_count": 14,
   "metadata": {},
   "outputs": [
    {
     "data": {
      "text/plain": [
       "'Saved new phrases to the dictionary.'"
      ]
     },
     "execution_count": 14,
     "metadata": {},
     "output_type": "execute_result"
    }
   ],
   "source": [
    "translation_model=\"gpt-4o\"\n",
    "temp=0.7 \n",
    "situation = \"Cooking with my wife\"\n",
    "num_phrases = 2\n",
    "complexity = \"Medium\"\n",
    "\n",
    "phrase_generator.run_phrase_generation_pipeline(situation, num_phrases, complexity, existing_phrases, translation_model, temp)"
   ]
  },
  {
   "cell_type": "code",
   "execution_count": 15,
   "metadata": {},
   "outputs": [
    {
     "data": {
      "text/plain": [
       "'Saved new phrases to the dictionary.'"
      ]
     },
     "execution_count": 15,
     "metadata": {},
     "output_type": "execute_result"
    }
   ],
   "source": [
    "translation_model=\"gpt-4o\"\n",
    "temp=0.7 \n",
    "input_phrases = \"明天你要几点出发, 你喜欢看什么电影\"\n",
    "complexity = \"Medium\"\n",
    "\n",
    "phrase_generator.run_phrase_response_pipeline(input_phrases, complexity, translation_model, temp)"
   ]
  }
 ],
 "metadata": {
  "kernelspec": {
   "display_name": "dash_test",
   "language": "python",
   "name": "python3"
  },
  "language_info": {
   "codemirror_mode": {
    "name": "ipython",
    "version": 3
   },
   "file_extension": ".py",
   "mimetype": "text/x-python",
   "name": "python",
   "nbconvert_exporter": "python",
   "pygments_lexer": "ipython3",
   "version": "3.12.7"
  }
 },
 "nbformat": 4,
 "nbformat_minor": 2
}
