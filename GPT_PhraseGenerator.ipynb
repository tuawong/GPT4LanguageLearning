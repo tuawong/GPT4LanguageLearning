{
 "cells": [
  {
   "cell_type": "code",
   "execution_count": 1,
   "metadata": {},
   "outputs": [],
   "source": [
    "import main.Constants as Constants\n",
    "from  openai import OpenAI\n",
    "import os\n",
    "import numpy as np\n",
    "import pandas as pd\n",
    "import time\n",
    "\n",
    "import gspread\n",
    "import gspread_dataframe as gd\n",
    "import gspread_formatting as gf\n",
    "from gspread_formatting import cellFormat, color, textFormat\n"
   ]
  },
  {
   "cell_type": "markdown",
   "metadata": {},
   "source": [
    "## Manual Phrase Generator"
   ]
  },
  {
   "cell_type": "code",
   "execution_count": 6,
   "metadata": {},
   "outputs": [],
   "source": [
    "from main.phrase_generator import *\n",
    "from main.utils import parse_response_table"
   ]
  },
  {
   "cell_type": "code",
   "execution_count": 7,
   "metadata": {},
   "outputs": [],
   "source": [
    "gsheet_name = Constants.SHEET_NAME\n",
    "phrasesheet_name = Constants.PHRASE_SHEET_NAME\n",
    "\n",
    "phrase_dict = load_dict(gsheet_mode=True, gsheet_name=gsheet_name, worksheet_name=phrasesheet_name)\n",
    "existing_phrases = phrase_dict['Line'].drop_duplicates().values"
   ]
  },
  {
   "cell_type": "markdown",
   "metadata": {},
   "source": [
    "#### Generate Phrase From Context"
   ]
  },
  {
   "cell_type": "code",
   "execution_count": 4,
   "metadata": {},
   "outputs": [],
   "source": [
    "translation_model=\"gpt-4o\"\n",
    "temp=0.7 \n",
    "situation = \"Going to the library\"\n",
    "num_phrases = 5\n",
    "complexity = \"Medium\"\n",
    "\n",
    "translation_response =  get_completion(\n",
    "        prompt = get_prompt_to_gen_phrases(\n",
    "            situation = \"Going to the library\",\n",
    "            num_phrases = 5,\n",
    "            complexity = \"Medium\",\n",
    "            existing_phrases=existing_phrases\n",
    "            ),\n",
    "        model=translation_model, \n",
    "        temperature=temp)\n"
   ]
  },
  {
   "cell_type": "code",
   "execution_count": 5,
   "metadata": {},
   "outputs": [
    {
     "name": "stdout",
     "output_type": "stream",
     "text": [
      "| Line            | Pinyin                            | Meaning                         | Response                      | Response Pinyin                    | Response Meaning               | Complexity | Category   |\n",
      "|------------------|----------------------------------|---------------------------------|-------------------------------|------------------------------------|---------------------------------|------------|------------|\n",
      "| 这本书在哪个区域？ | Zhè běn shū zài nǎge qūyù?       | Which section is this book in?  | 在三楼的文学区。               | Zài sān lóu de wénxué qū.          | In the literature section on the third floor. | Medium     | Library    |\n",
      "| 我可以借几本书？   | Wǒ kěyǐ jiè jǐ běn shū?          | How many books can I borrow?    | 你可以借五本书。               | Nǐ kěyǐ jiè wǔ běn shū.             | You can borrow five books.     | Medium     | Library    |\n",
      "| 图书馆有打印服务吗？| Túshūguǎn yǒu dǎyìn fúwù ma?    | Does the library offer printing services? | 有，在一楼。                 | Yǒu, zài yī lóu.                   | Yes, on the first floor.       | Medium     | Library    |\n",
      "| 这里的书可以拍照吗？| Zhèlǐ de shū kěyǐ pāizhào ma?    | Can I take photos of the books here? | 可以，但请不要使用闪光灯。     | Kěyǐ, dàn qǐng bùyào shǐyòng shǎnguāngdēng. | Yes, but please don't use the flash. | Medium     | Library    |\n",
      "| 有推荐的书吗？     | Yǒu tuījiàn de shū ma?           | Are there any book recommendations? | 当然，这本书很受欢迎。       | Dāngrán, zhè běn shū hěn shòu huānyíng. | Of course, this book is very popular. | Medium     | Library    |\n"
     ]
    }
   ],
   "source": [
    "print(translation_response.choices[0].message.content)"
   ]
  },
  {
   "cell_type": "code",
   "execution_count": 6,
   "metadata": {},
   "outputs": [
    {
     "data": {
      "text/html": [
       "<div>\n",
       "<style scoped>\n",
       "    .dataframe tbody tr th:only-of-type {\n",
       "        vertical-align: middle;\n",
       "    }\n",
       "\n",
       "    .dataframe tbody tr th {\n",
       "        vertical-align: top;\n",
       "    }\n",
       "\n",
       "    .dataframe thead th {\n",
       "        text-align: right;\n",
       "    }\n",
       "</style>\n",
       "<table border=\"1\" class=\"dataframe\">\n",
       "  <thead>\n",
       "    <tr style=\"text-align: right;\">\n",
       "      <th></th>\n",
       "      <th>Line</th>\n",
       "      <th>Pinyin</th>\n",
       "      <th>Meaning</th>\n",
       "      <th>Response</th>\n",
       "      <th>Response Pinyin</th>\n",
       "      <th>Response Meaning</th>\n",
       "      <th>Complexity</th>\n",
       "      <th>Category</th>\n",
       "    </tr>\n",
       "  </thead>\n",
       "  <tbody>\n",
       "    <tr>\n",
       "      <th>1</th>\n",
       "      <td>这本书在哪个区域？</td>\n",
       "      <td>Zhè běn shū zài nǎge qūyù?</td>\n",
       "      <td>Which section is this book in?</td>\n",
       "      <td>在三楼的文学区。</td>\n",
       "      <td>Zài sān lóu de wénxué qū.</td>\n",
       "      <td>In the literature section on the third floor.</td>\n",
       "      <td>Medium</td>\n",
       "      <td>Library</td>\n",
       "    </tr>\n",
       "    <tr>\n",
       "      <th>2</th>\n",
       "      <td>我可以借几本书？</td>\n",
       "      <td>Wǒ kěyǐ jiè jǐ běn shū?</td>\n",
       "      <td>How many books can I borrow?</td>\n",
       "      <td>你可以借五本书。</td>\n",
       "      <td>Nǐ kěyǐ jiè wǔ běn shū.</td>\n",
       "      <td>You can borrow five books.</td>\n",
       "      <td>Medium</td>\n",
       "      <td>Library</td>\n",
       "    </tr>\n",
       "    <tr>\n",
       "      <th>3</th>\n",
       "      <td>图书馆有打印服务吗？</td>\n",
       "      <td>Túshūguǎn yǒu dǎyìn fúwù ma?</td>\n",
       "      <td>Does the library offer printing services?</td>\n",
       "      <td>有，在一楼。</td>\n",
       "      <td>Yǒu, zài yī lóu.</td>\n",
       "      <td>Yes, on the first floor.</td>\n",
       "      <td>Medium</td>\n",
       "      <td>Library</td>\n",
       "    </tr>\n",
       "    <tr>\n",
       "      <th>4</th>\n",
       "      <td>这里的书可以拍照吗？</td>\n",
       "      <td>Zhèlǐ de shū kěyǐ pāizhào ma?</td>\n",
       "      <td>Can I take photos of the books here?</td>\n",
       "      <td>可以，但请不要使用闪光灯。</td>\n",
       "      <td>Kěyǐ, dàn qǐng bùyào shǐyòng shǎnguāngdēng.</td>\n",
       "      <td>Yes, but please don't use the flash.</td>\n",
       "      <td>Medium</td>\n",
       "      <td>Library</td>\n",
       "    </tr>\n",
       "    <tr>\n",
       "      <th>5</th>\n",
       "      <td>有推荐的书吗？</td>\n",
       "      <td>Yǒu tuījiàn de shū ma?</td>\n",
       "      <td>Are there any book recommendations?</td>\n",
       "      <td>当然，这本书很受欢迎。</td>\n",
       "      <td>Dāngrán, zhè běn shū hěn shòu huānyíng.</td>\n",
       "      <td>Of course, this book is very popular.</td>\n",
       "      <td>Medium</td>\n",
       "      <td>Library</td>\n",
       "    </tr>\n",
       "  </tbody>\n",
       "</table>\n",
       "</div>"
      ],
      "text/plain": [
       "         Line                         Pinyin  \\\n",
       "1   这本书在哪个区域？     Zhè běn shū zài nǎge qūyù?   \n",
       "2    我可以借几本书？        Wǒ kěyǐ jiè jǐ běn shū?   \n",
       "3  图书馆有打印服务吗？   Túshūguǎn yǒu dǎyìn fúwù ma?   \n",
       "4  这里的书可以拍照吗？  Zhèlǐ de shū kěyǐ pāizhào ma?   \n",
       "5     有推荐的书吗？         Yǒu tuījiàn de shū ma?   \n",
       "\n",
       "                                     Meaning       Response  \\\n",
       "1             Which section is this book in?       在三楼的文学区。   \n",
       "2               How many books can I borrow?       你可以借五本书。   \n",
       "3  Does the library offer printing services?         有，在一楼。   \n",
       "4       Can I take photos of the books here?  可以，但请不要使用闪光灯。   \n",
       "5        Are there any book recommendations?    当然，这本书很受欢迎。   \n",
       "\n",
       "                               Response Pinyin  \\\n",
       "1                    Zài sān lóu de wénxué qū.   \n",
       "2                      Nǐ kěyǐ jiè wǔ běn shū.   \n",
       "3                             Yǒu, zài yī lóu.   \n",
       "4  Kěyǐ, dàn qǐng bùyào shǐyòng shǎnguāngdēng.   \n",
       "5      Dāngrán, zhè běn shū hěn shòu huānyíng.   \n",
       "\n",
       "                                Response Meaning Complexity Category  \n",
       "1  In the literature section on the third floor.     Medium  Library  \n",
       "2                     You can borrow five books.     Medium  Library  \n",
       "3                       Yes, on the first floor.     Medium  Library  \n",
       "4           Yes, but please don't use the flash.     Medium  Library  \n",
       "5          Of course, this book is very popular.     Medium  Library  "
      ]
     },
     "execution_count": 6,
     "metadata": {},
     "output_type": "execute_result"
    }
   ],
   "source": [
    "new_phrase_df = parse_response_table(translation_response.choices[0].message.content)\n",
    "new_phrase_df"
   ]
  },
  {
   "cell_type": "code",
   "execution_count": 7,
   "metadata": {},
   "outputs": [
    {
     "data": {
      "text/plain": [
       "'Saved new phrases to the dictionary.'"
      ]
     },
     "execution_count": 7,
     "metadata": {},
     "output_type": "execute_result"
    }
   ],
   "source": [
    "save_new_phrase_to_dict(new_phrase_df, gsheet_name=gsheet_name, worksheet_name=phrasesheet_name)"
   ]
  },
  {
   "cell_type": "markdown",
   "metadata": {},
   "source": [
    "#### Generate Response from Phrase"
   ]
  },
  {
   "cell_type": "code",
   "execution_count": 8,
   "metadata": {},
   "outputs": [],
   "source": [
    "translation_model=\"gpt-4o\"\n",
    "temp=0.7 \n",
    "\n",
    "translation_response =  get_completion(\n",
    "        prompt = get_prompt_to_respond(\"洗手间在哪里， 今天你要吃什么\", complexity=\"Medium\"),\n",
    "        model=translation_model, \n",
    "        temperature=temp)\n"
   ]
  },
  {
   "cell_type": "code",
   "execution_count": 9,
   "metadata": {},
   "outputs": [
    {
     "data": {
      "text/html": [
       "<div>\n",
       "<style scoped>\n",
       "    .dataframe tbody tr th:only-of-type {\n",
       "        vertical-align: middle;\n",
       "    }\n",
       "\n",
       "    .dataframe tbody tr th {\n",
       "        vertical-align: top;\n",
       "    }\n",
       "\n",
       "    .dataframe thead th {\n",
       "        text-align: right;\n",
       "    }\n",
       "</style>\n",
       "<table border=\"1\" class=\"dataframe\">\n",
       "  <thead>\n",
       "    <tr style=\"text-align: right;\">\n",
       "      <th></th>\n",
       "      <th>Line</th>\n",
       "      <th>Pinyin</th>\n",
       "      <th>Meaning</th>\n",
       "      <th>Response</th>\n",
       "      <th>Response Pinyin</th>\n",
       "      <th>Response Meaning</th>\n",
       "      <th>Complexity</th>\n",
       "      <th>Category</th>\n",
       "    </tr>\n",
       "  </thead>\n",
       "  <tbody>\n",
       "    <tr>\n",
       "      <th>1</th>\n",
       "      <td>洗手间在哪里</td>\n",
       "      <td>Xǐshǒujiān zài nǎlǐ</td>\n",
       "      <td>Where is the restroom?</td>\n",
       "      <td>洗手间在走廊的右边。</td>\n",
       "      <td>Xǐshǒujiān zài zǒuláng de yòubiān.</td>\n",
       "      <td>The restroom is on the right side of the corri...</td>\n",
       "      <td>Medium</td>\n",
       "      <td>Daily Life</td>\n",
       "    </tr>\n",
       "    <tr>\n",
       "      <th>2</th>\n",
       "      <td>今天你要吃什么</td>\n",
       "      <td>Jīntiān nǐ yào chī shénme</td>\n",
       "      <td>What do you want to eat today?</td>\n",
       "      <td>我今天想吃中餐。</td>\n",
       "      <td>Wǒ jīntiān xiǎng chī zhōngcān.</td>\n",
       "      <td>I want to eat Chinese food today.</td>\n",
       "      <td>Medium</td>\n",
       "      <td>Cooking</td>\n",
       "    </tr>\n",
       "  </tbody>\n",
       "</table>\n",
       "</div>"
      ],
      "text/plain": [
       "      Line                     Pinyin                         Meaning  \\\n",
       "1   洗手间在哪里        Xǐshǒujiān zài nǎlǐ          Where is the restroom?   \n",
       "2  今天你要吃什么  Jīntiān nǐ yào chī shénme  What do you want to eat today?   \n",
       "\n",
       "     Response                     Response Pinyin  \\\n",
       "1  洗手间在走廊的右边。  Xǐshǒujiān zài zǒuláng de yòubiān.   \n",
       "2    我今天想吃中餐。      Wǒ jīntiān xiǎng chī zhōngcān.   \n",
       "\n",
       "                                    Response Meaning Complexity    Category  \n",
       "1  The restroom is on the right side of the corri...     Medium  Daily Life  \n",
       "2                  I want to eat Chinese food today.     Medium     Cooking  "
      ]
     },
     "execution_count": 9,
     "metadata": {},
     "output_type": "execute_result"
    }
   ],
   "source": [
    "new_phrase_df = parse_response_table(translation_response.choices[0].message.content)\n",
    "new_phrase_df"
   ]
  },
  {
   "cell_type": "code",
   "execution_count": 10,
   "metadata": {},
   "outputs": [
    {
     "data": {
      "text/plain": [
       "'Saved new phrases to the dictionary.'"
      ]
     },
     "execution_count": 10,
     "metadata": {},
     "output_type": "execute_result"
    }
   ],
   "source": [
    "save_new_phrase_to_dict(new_phrase_df, gsheet_name=gsheet_name, worksheet_name=phrasesheet_name)"
   ]
  },
  {
   "cell_type": "markdown",
   "metadata": {},
   "source": [
    "## Packaging Phrase Generator Pipeline"
   ]
  },
  {
   "cell_type": "code",
   "execution_count": 8,
   "metadata": {},
   "outputs": [],
   "source": [
    "phrase_generator = PhraseGenerationPipeline(gsheet_name, phrasesheet_name)"
   ]
  },
  {
   "cell_type": "code",
   "execution_count": 9,
   "metadata": {},
   "outputs": [
    {
     "data": {
      "text/html": [
       "<div>\n",
       "<style scoped>\n",
       "    .dataframe tbody tr th:only-of-type {\n",
       "        vertical-align: middle;\n",
       "    }\n",
       "\n",
       "    .dataframe tbody tr th {\n",
       "        vertical-align: top;\n",
       "    }\n",
       "\n",
       "    .dataframe thead th {\n",
       "        text-align: right;\n",
       "    }\n",
       "</style>\n",
       "<table border=\"1\" class=\"dataframe\">\n",
       "  <thead>\n",
       "    <tr style=\"text-align: right;\">\n",
       "      <th></th>\n",
       "      <th>Line</th>\n",
       "      <th>Pinyin</th>\n",
       "      <th>Meaning</th>\n",
       "      <th>Response</th>\n",
       "      <th>Response Pinyin</th>\n",
       "      <th>Response Meaning</th>\n",
       "      <th>Complexity</th>\n",
       "      <th>Category</th>\n",
       "      <th>Added Date</th>\n",
       "      <th>Phrase Id</th>\n",
       "    </tr>\n",
       "  </thead>\n",
       "  <tbody>\n",
       "    <tr>\n",
       "      <th>1</th>\n",
       "      <td>你喜欢吃辣的吗？</td>\n",
       "      <td>Nǐ xǐhuān chī là de ma?</td>\n",
       "      <td>Do you like spicy food?</td>\n",
       "      <td>我比较喜欢清淡的。</td>\n",
       "      <td>Wǒ bǐjiào xǐhuān qīngdàn de.</td>\n",
       "      <td>I prefer mild flavors.</td>\n",
       "      <td>Medium</td>\n",
       "      <td>Cooking</td>\n",
       "      <td>2024-12-28</td>\n",
       "      <td>21</td>\n",
       "    </tr>\n",
       "    <tr>\n",
       "      <th>2</th>\n",
       "      <td>我们试试新食谱吧。</td>\n",
       "      <td>Wǒmen shìshì xīn shípǔ ba.</td>\n",
       "      <td>Let's try a new recipe.</td>\n",
       "      <td>好的，那我们来看看需要哪些材料。</td>\n",
       "      <td>Hǎo de, nà wǒmen lái kàn kàn xūyào nǎxiē cáiliào.</td>\n",
       "      <td>Okay, let's see what ingredients we need.</td>\n",
       "      <td>Medium</td>\n",
       "      <td>Cooking</td>\n",
       "      <td>2024-12-28</td>\n",
       "      <td>22</td>\n",
       "    </tr>\n",
       "  </tbody>\n",
       "</table>\n",
       "</div>"
      ],
      "text/plain": [
       "        Line                      Pinyin                  Meaning  \\\n",
       "1   你喜欢吃辣的吗？     Nǐ xǐhuān chī là de ma?  Do you like spicy food?   \n",
       "2  我们试试新食谱吧。  Wǒmen shìshì xīn shípǔ ba.  Let's try a new recipe.   \n",
       "\n",
       "           Response                                    Response Pinyin  \\\n",
       "1         我比较喜欢清淡的。                       Wǒ bǐjiào xǐhuān qīngdàn de.   \n",
       "2  好的，那我们来看看需要哪些材料。  Hǎo de, nà wǒmen lái kàn kàn xūyào nǎxiē cáiliào.   \n",
       "\n",
       "                            Response Meaning Complexity Category  Added Date  \\\n",
       "1                     I prefer mild flavors.     Medium  Cooking  2024-12-28   \n",
       "2  Okay, let's see what ingredients we need.     Medium  Cooking  2024-12-28   \n",
       "\n",
       "   Phrase Id  \n",
       "1         21  \n",
       "2         22  "
      ]
     },
     "execution_count": 9,
     "metadata": {},
     "output_type": "execute_result"
    }
   ],
   "source": [
    "translation_model=\"gpt-4o\"\n",
    "temp=0.7 \n",
    "situation = \"Cooking with my wife\"\n",
    "num_phrases = 2\n",
    "complexity = \"Medium\"\n",
    "\n",
    "phrase_generator.run_phrase_generation_pipeline(situation, num_phrases, complexity, existing_phrases, translation_model, temp)\n",
    "phrase_generator.new_phrase_df"
   ]
  },
  {
   "cell_type": "code",
   "execution_count": 11,
   "metadata": {},
   "outputs": [
    {
     "data": {
      "text/html": [
       "<div>\n",
       "<style scoped>\n",
       "    .dataframe tbody tr th:only-of-type {\n",
       "        vertical-align: middle;\n",
       "    }\n",
       "\n",
       "    .dataframe tbody tr th {\n",
       "        vertical-align: top;\n",
       "    }\n",
       "\n",
       "    .dataframe thead th {\n",
       "        text-align: right;\n",
       "    }\n",
       "</style>\n",
       "<table border=\"1\" class=\"dataframe\">\n",
       "  <thead>\n",
       "    <tr style=\"text-align: right;\">\n",
       "      <th></th>\n",
       "      <th>Line</th>\n",
       "      <th>Pinyin</th>\n",
       "      <th>Meaning</th>\n",
       "      <th>Response</th>\n",
       "      <th>Response Pinyin</th>\n",
       "      <th>Response Meaning</th>\n",
       "      <th>Complexity</th>\n",
       "      <th>Category</th>\n",
       "      <th>Added Date</th>\n",
       "    </tr>\n",
       "  </thead>\n",
       "  <tbody>\n",
       "    <tr>\n",
       "      <th>1</th>\n",
       "      <td>明天你要几点出发</td>\n",
       "      <td>Míngtiān nǐ yào jǐ diǎn chūfā</td>\n",
       "      <td>What time are you leaving tomorrow?</td>\n",
       "      <td>我打算早上八点出发。</td>\n",
       "      <td>Wǒ dǎsuàn zǎoshang bā diǎn chūfā</td>\n",
       "      <td>I plan to leave at 8 AM.</td>\n",
       "      <td>Medium</td>\n",
       "      <td>Daily Life</td>\n",
       "      <td>2024-12-28</td>\n",
       "    </tr>\n",
       "    <tr>\n",
       "      <th>2</th>\n",
       "      <td>你喜欢看什么电影</td>\n",
       "      <td>Nǐ xǐhuān kàn shénme diànyǐng</td>\n",
       "      <td>What kind of movies do you like?</td>\n",
       "      <td>我喜欢看科幻电影，比如《星际穿越》。</td>\n",
       "      <td>Wǒ xǐhuān kàn kēhuàn diànyǐng, bǐrú \"Xīngjì Ch...</td>\n",
       "      <td>I like watching sci-fi movies, such as \"Inters...</td>\n",
       "      <td>Medium</td>\n",
       "      <td>Movies and Entertainment</td>\n",
       "      <td>2024-12-28</td>\n",
       "    </tr>\n",
       "  </tbody>\n",
       "</table>\n",
       "</div>"
      ],
      "text/plain": [
       "       Line                         Pinyin  \\\n",
       "1  明天你要几点出发  Míngtiān nǐ yào jǐ diǎn chūfā   \n",
       "2  你喜欢看什么电影  Nǐ xǐhuān kàn shénme diànyǐng   \n",
       "\n",
       "                               Meaning            Response  \\\n",
       "1  What time are you leaving tomorrow?          我打算早上八点出发。   \n",
       "2     What kind of movies do you like?  我喜欢看科幻电影，比如《星际穿越》。   \n",
       "\n",
       "                                     Response Pinyin  \\\n",
       "1                   Wǒ dǎsuàn zǎoshang bā diǎn chūfā   \n",
       "2  Wǒ xǐhuān kàn kēhuàn diànyǐng, bǐrú \"Xīngjì Ch...   \n",
       "\n",
       "                                    Response Meaning Complexity  \\\n",
       "1                           I plan to leave at 8 AM.     Medium   \n",
       "2  I like watching sci-fi movies, such as \"Inters...     Medium   \n",
       "\n",
       "                   Category  Added Date  \n",
       "1                Daily Life  2024-12-28  \n",
       "2  Movies and Entertainment  2024-12-28  "
      ]
     },
     "execution_count": 11,
     "metadata": {},
     "output_type": "execute_result"
    }
   ],
   "source": [
    "translation_model=\"gpt-4o\"\n",
    "temp=0.7 \n",
    "input_phrases = \"明天你要几点出发, 你喜欢看什么电影\"\n",
    "complexity = \"Medium\"\n",
    "\n",
    "phrase_generator.phrase_response_module(input_phrases, complexity, translation_model, temp)\n",
    "phrase_generator.new_phrase_df"
   ]
  },
  {
   "cell_type": "code",
   "execution_count": 14,
   "metadata": {},
   "outputs": [
    {
     "data": {
      "text/plain": [
       "'Saved new phrases to the dictionary.'"
      ]
     },
     "execution_count": 14,
     "metadata": {},
     "output_type": "execute_result"
    }
   ],
   "source": [
    "translation_model=\"gpt-4o\"\n",
    "temp=0.7 \n",
    "situation = \"Cooking with my wife\"\n",
    "num_phrases = 2\n",
    "complexity = \"Medium\"\n",
    "\n",
    "phrase_generator.run_phrase_generation_pipeline(situation, num_phrases, complexity, existing_phrases, translation_model, temp)"
   ]
  },
  {
   "cell_type": "code",
   "execution_count": 15,
   "metadata": {},
   "outputs": [
    {
     "data": {
      "text/plain": [
       "'Saved new phrases to the dictionary.'"
      ]
     },
     "execution_count": 15,
     "metadata": {},
     "output_type": "execute_result"
    }
   ],
   "source": [
    "translation_model=\"gpt-4o\"\n",
    "temp=0.7 \n",
    "input_phrases = \"明天你要几点出发, 你喜欢看什么电影\"\n",
    "complexity = \"Medium\"\n",
    "\n",
    "phrase_generator.run_phrase_response_pipeline(input_phrases, complexity, translation_model, temp)"
   ]
  }
 ],
 "metadata": {
  "kernelspec": {
   "display_name": "dash_test",
   "language": "python",
   "name": "python3"
  },
  "language_info": {
   "codemirror_mode": {
    "name": "ipython",
    "version": 3
   },
   "file_extension": ".py",
   "mimetype": "text/x-python",
   "name": "python",
   "nbconvert_exporter": "python",
   "pygments_lexer": "ipython3",
   "version": "3.12.7"
  }
 },
 "nbformat": 4,
 "nbformat_minor": 2
}
